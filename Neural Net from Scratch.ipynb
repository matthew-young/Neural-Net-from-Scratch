{
 "cells": [
  {
   "cell_type": "markdown",
   "id": "1085f9d4",
   "metadata": {},
   "source": [
    "## Neural Net from Scratch\n",
    "\n",
    "This notebook shows how to create a neural net using python and numpy. I'm following <i>Neural Network from Scratch | Mathematics & Python Code</i> by The Independent Code\n",
    "\n",
    "https://www.youtube.com/watch?v=pauPCy_s0Ok"
   ]
  },
  {
   "cell_type": "code",
   "execution_count": null,
   "id": "60d117d6",
   "metadata": {},
   "outputs": [],
   "source": [
    "import numpy as np"
   ]
  },
  {
   "cell_type": "code",
   "execution_count": null,
   "id": "426382db",
   "metadata": {},
   "outputs": [],
   "source": [
    "class Layer:\n",
    "    def __init__(self):\n",
    "        self.input = None\n",
    "        self.output = None\n",
    "        \n",
    "    def forward(self, input):\n",
    "        pass\n",
    "        \n",
    "    def backward(self, output_gradient, learning_rate):\n",
    "        pass"
   ]
  }
 ],
 "metadata": {
  "kernelspec": {
   "display_name": "Python 3 (ipykernel)",
   "language": "python",
   "name": "python3"
  },
  "language_info": {
   "codemirror_mode": {
    "name": "ipython",
    "version": 3
   },
   "file_extension": ".py",
   "mimetype": "text/x-python",
   "name": "python",
   "nbconvert_exporter": "python",
   "pygments_lexer": "ipython3",
   "version": "3.9.13"
  }
 },
 "nbformat": 4,
 "nbformat_minor": 5
}
