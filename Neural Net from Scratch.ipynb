{
 "cells": [
  {
   "cell_type": "markdown",
   "id": "1085f9d4",
   "metadata": {},
   "source": [
    "## Neural Net from Scratch\n",
    "\n",
    "This notebook shows how to create a neural net using python and numpy. I'm following <i>Neural Network from Scratch | Mathematics & Python Code</i> by The Independent Code\n",
    "\n",
    "https://www.youtube.com/watch?v=pauPCy_s0Ok"
   ]
  },
  {
   "cell_type": "code",
   "execution_count": 1,
   "id": "60d117d6",
   "metadata": {},
   "outputs": [],
   "source": [
    "import numpy as np"
   ]
  },
  {
   "cell_type": "markdown",
   "id": "85ce997f",
   "metadata": {},
   "source": [
    "### Layer Class"
   ]
  },
  {
   "cell_type": "code",
   "execution_count": 2,
   "id": "4e12abb0",
   "metadata": {},
   "outputs": [],
   "source": [
    "class Layer:\n",
    "    def __init__(self):\n",
    "        self.input = None\n",
    "        self.output = None\n",
    "        \n",
    "    def forward(self, input):\n",
    "        pass\n",
    "        \n",
    "    def backward(self, output_gradient, learning_rate):\n",
    "        pass"
   ]
  },
  {
   "cell_type": "markdown",
   "id": "9fbafcef",
   "metadata": {},
   "source": [
    "### Dense Layer Class"
   ]
  },
  {
   "cell_type": "code",
   "execution_count": 3,
   "id": "2c6de5a6",
   "metadata": {},
   "outputs": [],
   "source": [
    "class Dense(Layer):\n",
    "    def __init__(self, input_size, output_size):\n",
    "        self.weights = np.random.randn(output_size, input_size)\n",
    "        self.bias = np.random.randn(output_size, 1)\n",
    "    \n",
    "    def forward(self, input):\n",
    "        self.input = input\n",
    "        return np.dot(self.weights, self.input) + self.bias\n",
    "    \n",
    "    def backward(self, output_gradient, learning_rate):\n",
    "        weights_gradient = np.dot(output_gradient, self.input.T)\n",
    "        self.weights -= learning_rate * weights_gradient\n",
    "        self.bias -= learning_rate * output_gradient\n",
    "        return np.dot(self.weights.T, output_gradient)"
   ]
  },
  {
   "cell_type": "markdown",
   "id": "50b5e6b3",
   "metadata": {},
   "source": [
    "### Activation Layer Class"
   ]
  },
  {
   "cell_type": "code",
   "execution_count": 4,
   "id": "97bfada1",
   "metadata": {},
   "outputs": [],
   "source": [
    "class Activation(Layer):\n",
    "    def __init__(self, activation, activation_prime):\n",
    "        self.activation = activation\n",
    "        self.activation_prime = activation_prime\n",
    "        \n",
    "    def forward(self, input):\n",
    "        self.input = input\n",
    "        return self.activation(self.input)\n",
    "        \n",
    "    def backward(self, output_gradient, learning_rate):\n",
    "        return np.multiply(output_gradient, self.activation_prime(self.input))\n",
    "    "
   ]
  },
  {
   "cell_type": "markdown",
   "id": "a667bd41",
   "metadata": {},
   "source": [
    "### Tanh Activation Layer Class"
   ]
  },
  {
   "cell_type": "code",
   "execution_count": 5,
   "id": "63f147da",
   "metadata": {},
   "outputs": [],
   "source": [
    "class Tanh(Activation):\n",
    "    def __init__(self):\n",
    "        tanh = lambda x: np.tanh(x)\n",
    "        tanh_prime = lambda x: 1 - np.tanh(x) ** 2\n",
    "        super().__init__(tanh, tanh_prime)"
   ]
  },
  {
   "cell_type": "markdown",
   "id": "6933dfcd",
   "metadata": {},
   "source": [
    "### Mean Squared Error and the Derivative of MSE"
   ]
  },
  {
   "cell_type": "code",
   "execution_count": 6,
   "id": "eac92d5c",
   "metadata": {},
   "outputs": [],
   "source": [
    "def mse(y_true, y_pred):\n",
    "    return np.mean(np.power((y_true - y_pred), 2))\n",
    "    \n",
    "def mse_prime(y_true, y_pred):\n",
    "    return 2 * (y_pred - y_true) / np.size(y_true)"
   ]
  },
  {
   "cell_type": "markdown",
   "id": "07e97c5a",
   "metadata": {},
   "source": [
    "### Building the Neural Net"
   ]
  },
  {
   "cell_type": "code",
   "execution_count": 7,
   "id": "74454c0f",
   "metadata": {},
   "outputs": [],
   "source": [
    "X = np.reshape([[0,0], [0,1], [1,0], [1,1]], (4, 2, 1))\n",
    "Y = np.reshape([[0], [1], [1], [0]], (4, 1, 1))"
   ]
  },
  {
   "cell_type": "code",
   "execution_count": 8,
   "id": "bfc0c2b3",
   "metadata": {},
   "outputs": [],
   "source": [
    "network = [\n",
    "    Dense(2,3),\n",
    "    Tanh(),\n",
    "    Dense(3,1),\n",
    "    Tanh()\n",
    "]"
   ]
  },
  {
   "cell_type": "code",
   "execution_count": 9,
   "id": "9bf2400a",
   "metadata": {},
   "outputs": [],
   "source": [
    "epochs = 10000\n",
    "learning_rate = 0.1"
   ]
  },
  {
   "cell_type": "code",
   "execution_count": 10,
   "id": "66b3b9e9",
   "metadata": {},
   "outputs": [
    {
     "name": "stdout",
     "output_type": "stream",
     "text": [
      "1/10000 error 0.320974\n",
      "2/10000 error 0.323950\n",
      "3/10000 error 0.325375\n",
      "4/10000 error 0.325337\n",
      "5/10000 error 0.324792\n",
      "6/10000 error 0.324110\n",
      "7/10000 error 0.323382\n",
      "8/10000 error 0.322619\n",
      "9/10000 error 0.321804\n",
      "10/10000 error 0.320919\n",
      "1000/10000 error 0.000198\n",
      "2000/10000 error 0.000089\n",
      "3000/10000 error 0.000056\n",
      "4000/10000 error 0.000041\n",
      "5000/10000 error 0.000032\n",
      "6000/10000 error 0.000026\n",
      "7000/10000 error 0.000022\n",
      "8000/10000 error 0.000019\n",
      "9000/10000 error 0.000017\n",
      "10000/10000 error 0.000015\n"
     ]
    }
   ],
   "source": [
    "for e in range(epochs):\n",
    "    error = 0\n",
    "    for x, y in zip(X, Y):\n",
    "        #forward\n",
    "        output = x\n",
    "        for layer in network:\n",
    "            output = layer.forward(output)\n",
    "        \n",
    "        #error\n",
    "        error += mse(y, output)\n",
    "        \n",
    "        #backward\n",
    "        grad = mse_prime(y, output)\n",
    "        for layer in reversed(network):\n",
    "            grad = layer.backward(grad, learning_rate)\n",
    "        \n",
    "    error /= len(X)\n",
    "    if  (e < 10 or (e + 1) % 1000 == 0):\n",
    "        print('%d/%d error %f' % (e + 1, epochs, error))"
   ]
  },
  {
   "cell_type": "code",
   "execution_count": 11,
   "id": "d27a187b",
   "metadata": {},
   "outputs": [
    {
     "name": "stdout",
     "output_type": "stream",
     "text": [
      "[[-5.65000158e-05]]\n"
     ]
    }
   ],
   "source": [
    "#test\n",
    "output = [[1],[1]]\n",
    "for layer in network:\n",
    "    output = layer.forward(output)\n",
    "print(output)"
   ]
  },
  {
   "cell_type": "code",
   "execution_count": 12,
   "id": "540e841e",
   "metadata": {},
   "outputs": [
    {
     "name": "stdout",
     "output_type": "stream",
     "text": [
      "[[1.0000565]]\n"
     ]
    }
   ],
   "source": [
    "print( 1 - output)"
   ]
  },
  {
   "cell_type": "code",
   "execution_count": null,
   "id": "6cddd89e",
   "metadata": {},
   "outputs": [],
   "source": []
  }
 ],
 "metadata": {
  "kernelspec": {
   "display_name": "Python 3 (ipykernel)",
   "language": "python",
   "name": "python3"
  },
  "language_info": {
   "codemirror_mode": {
    "name": "ipython",
    "version": 3
   },
   "file_extension": ".py",
   "mimetype": "text/x-python",
   "name": "python",
   "nbconvert_exporter": "python",
   "pygments_lexer": "ipython3",
   "version": "3.9.13"
  }
 },
 "nbformat": 4,
 "nbformat_minor": 5
}
