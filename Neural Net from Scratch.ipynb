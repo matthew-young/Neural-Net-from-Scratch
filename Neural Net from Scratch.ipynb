{
 "cells": [
  {
   "cell_type": "markdown",
   "id": "1085f9d4",
   "metadata": {},
   "source": [
    "## Neural Net from Scratch\n",
    "\n",
    "This notebook shows how to create a neural net using python and numpy. I'm following a youtube video that I will paste the link to. :)"
   ]
  },
  {
   "cell_type": "code",
   "execution_count": null,
   "id": "60d117d6",
   "metadata": {},
   "outputs": [],
   "source": []
  }
 ],
 "metadata": {
  "kernelspec": {
   "display_name": "Python 3 (ipykernel)",
   "language": "python",
   "name": "python3"
  },
  "language_info": {
   "codemirror_mode": {
    "name": "ipython",
    "version": 3
   },
   "file_extension": ".py",
   "mimetype": "text/x-python",
   "name": "python",
   "nbconvert_exporter": "python",
   "pygments_lexer": "ipython3",
   "version": "3.9.13"
  }
 },
 "nbformat": 4,
 "nbformat_minor": 5
}
